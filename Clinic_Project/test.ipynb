{
 "cells": [
  {
   "cell_type": "code",
   "execution_count": 1,
   "id": "initial_id",
   "metadata": {
    "collapsed": true,
    "ExecuteTime": {
     "end_time": "2024-01-17T23:57:52.020793400Z",
     "start_time": "2024-01-17T23:57:51.898149800Z"
    }
   },
   "outputs": [],
   "source": [
    "%load_ext autoreload\n",
    "%autoreload 2\n",
    "import appointment\n",
    "from availability import Availability"
   ]
  },
  {
   "cell_type": "code",
   "outputs": [],
   "source": [
    "obj_a = Availability()\n",
    "obj_p = appointment.Appointment()"
   ],
   "metadata": {
    "collapsed": false,
    "ExecuteTime": {
     "end_time": "2024-01-17T23:57:52.098871100Z",
     "start_time": "2024-01-17T23:57:52.025820500Z"
    }
   },
   "id": "cb7ef0ff79ae5b21",
   "execution_count": 2
  },
  {
   "cell_type": "code",
   "outputs": [],
   "source": [
    "obj_a.add_availability(doctor_phone_number=\"09101511901\", clinic=\"clinic_1\", date=\"2024/2/1\", time=\"10:00\")\n",
    "obj_a.add_availability(doctor_phone_number=\"09101511901\", clinic=\"clinic_1\", date=\"2024/2/2\", time=\"10:30\")\n",
    "obj_a.add_availability(doctor_phone_number=\"09101511901\", clinic=\"clinic_1\", date=\"2024/2/3\", time=\"11:00\")\n",
    "obj_a.add_availability(doctor_phone_number=\"09101511901\", clinic=\"clinic_2\", date=\"2024/2/4\", time=\"10:00\")\n",
    "obj_a.add_availability(doctor_phone_number=\"09101511902\", clinic=\"clinic_2\", date=\"2024/2/5\", time=\"10:30\")\n",
    "obj_a.add_availability(doctor_phone_number=\"09101511903\", clinic=\"clinic_3\", date=\"2024/2/6\", time=\"11:00\")\n",
    "obj_a.add_availability(doctor_phone_number=\"09101511902\", clinic=\"clinic_3\", date=\"2024/2/7\", time=\"12:00\")\n",
    "obj_a.add_availability(doctor_phone_number=\"09101511903\", clinic=\"clinic_3\", date=\"2024/2/8\", time=\"12:00\")\n",
    "obj_a.add_availability(doctor_phone_number=\"09101511902\", clinic=\"clinic_2\", date=\"2024/2/9\", time=\"12:00\")"
   ],
   "metadata": {
    "collapsed": false,
    "ExecuteTime": {
     "end_time": "2024-01-17T23:55:28.099330100Z",
     "start_time": "2024-01-17T23:55:27.923309700Z"
    }
   },
   "id": "6be2a438ea362739",
   "execution_count": 6
  },
  {
   "cell_type": "code",
   "outputs": [
    {
     "name": "stdout",
     "output_type": "stream",
     "text": [
      "[INFO] Appointment added successfully!\n",
      "[ERROR] Doctor is not available on the given date\n"
     ]
    }
   ],
   "source": [
    "obj_p.add_appointment(doctor_phone_number=\"09101511901\", clinic_name=\"clinic_1\", patient_phone_number=\"09101511983\",\n",
    "                      date=\"2024/2/2\", time=\"10:30\")\n",
    "obj_p.add_appointment(doctor_phone_number=\"09101511901\", clinic_name=\"clinic_1\", patient_phone_number=\"09101511983\",\n",
    "                      date=\"2024/2/1\", time=\"10:0\")"
   ],
   "metadata": {
    "collapsed": false,
    "ExecuteTime": {
     "end_time": "2024-01-17T23:59:13.278414600Z",
     "start_time": "2024-01-17T23:59:13.184819700Z"
    }
   },
   "id": "7a75db60385fd0c0",
   "execution_count": 7
  },
  {
   "cell_type": "code",
   "outputs": [
    {
     "name": "stdout",
     "output_type": "stream",
     "text": [
      "[INFO] Appointment canceled successfully!\n"
     ]
    }
   ],
   "source": [
    "obj_p.cancel_appointment(patient_phone_number=\"09101511983\", date=\"2024/2/2\", time=\"10:30\")"
   ],
   "metadata": {
    "collapsed": false,
    "ExecuteTime": {
     "end_time": "2024-01-17T23:59:24.573346900Z",
     "start_time": "2024-01-17T23:59:24.484083600Z"
    }
   },
   "id": "1d19d2435949a74f",
   "execution_count": 9
  },
  {
   "cell_type": "code",
   "outputs": [
    {
     "name": "stdout",
     "output_type": "stream",
     "text": [
      "Appointment rescheduled successfully!\n"
     ]
    }
   ],
   "source": [
    "obj_p.reschedule_appointment(patient_phone_number=\"09101511983\", old_date=\"2024/2/1\", old_time=\"10:0\",\n",
    "                             new_date=\"2024/2/2\", new_time=\"10:30\")"
   ],
   "metadata": {
    "collapsed": false,
    "ExecuteTime": {
     "end_time": "2024-01-17T23:59:25.826089400Z",
     "start_time": "2024-01-17T23:59:25.738284300Z"
    }
   },
   "id": "6d32b2e2c19df646",
   "execution_count": 10
  },
  {
   "cell_type": "code",
   "outputs": [
    {
     "data": {
      "text/plain": "[{'Available Date': '2024/02/01',\n  'Available Time': '10:00',\n  'Doctor Name': 'd1 dl1',\n  'Clinic Name': 'clinic_1',\n  'Clinic Address': 'tehran',\n  'Secretary Phone Number': '09101511911'},\n {'Available Date': '2024/02/03',\n  'Available Time': '11:00',\n  'Doctor Name': 'd1 dl1',\n  'Clinic Name': 'clinic_1',\n  'Clinic Address': 'tehran',\n  'Secretary Phone Number': '09101511911'},\n {'Available Date': '2024/02/04',\n  'Available Time': '10:00',\n  'Doctor Name': 'd1 dl1',\n  'Clinic Name': 'clinic_2',\n  'Clinic Address': 'tehran',\n  'Secretary Phone Number': '09101511912'},\n {'Available Date': '2024/02/05',\n  'Available Time': '10:30',\n  'Doctor Name': 'd2 dl2',\n  'Clinic Name': 'clinic_2',\n  'Clinic Address': 'tehran',\n  'Secretary Phone Number': '09101511912'},\n {'Available Date': '2024/02/06',\n  'Available Time': '11:00',\n  'Doctor Name': 'd3 dl3',\n  'Clinic Name': 'clinic_3',\n  'Clinic Address': 'tehran',\n  'Secretary Phone Number': '09101511913'},\n {'Available Date': '2024/02/07',\n  'Available Time': '12:00',\n  'Doctor Name': 'd2 dl2',\n  'Clinic Name': 'clinic_3',\n  'Clinic Address': 'tehran',\n  'Secretary Phone Number': '09101511913'},\n {'Available Date': '2024/02/08',\n  'Available Time': '12:00',\n  'Doctor Name': 'd3 dl3',\n  'Clinic Name': 'clinic_3',\n  'Clinic Address': 'tehran',\n  'Secretary Phone Number': '09101511913'},\n {'Available Date': '2024/02/09',\n  'Available Time': '12:00',\n  'Doctor Name': 'd2 dl2',\n  'Clinic Name': 'clinic_2',\n  'Clinic Address': 'tehran',\n  'Secretary Phone Number': '09101511912'}]"
     },
     "execution_count": 15,
     "metadata": {},
     "output_type": "execute_result"
    }
   ],
   "source": [
    "obj_a.get_available_times()"
   ],
   "metadata": {
    "collapsed": false,
    "ExecuteTime": {
     "end_time": "2024-01-18T00:11:34.367287600Z",
     "start_time": "2024-01-18T00:11:34.204275100Z"
    }
   },
   "id": "932c84e19975bbf0",
   "execution_count": 15
  },
  {
   "cell_type": "code",
   "outputs": [],
   "source": [],
   "metadata": {
    "collapsed": false
   },
   "id": "50f59e6d9a13fc87"
  }
 ],
 "metadata": {
  "kernelspec": {
   "display_name": "Python 3",
   "language": "python",
   "name": "python3"
  },
  "language_info": {
   "codemirror_mode": {
    "name": "ipython",
    "version": 2
   },
   "file_extension": ".py",
   "mimetype": "text/x-python",
   "name": "python",
   "nbconvert_exporter": "python",
   "pygments_lexer": "ipython2",
   "version": "2.7.6"
  }
 },
 "nbformat": 4,
 "nbformat_minor": 5
}
