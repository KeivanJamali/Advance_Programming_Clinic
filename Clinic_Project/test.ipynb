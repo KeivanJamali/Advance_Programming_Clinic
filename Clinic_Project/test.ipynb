{
 "cells": [
  {
   "cell_type": "code",
   "execution_count": 53,
   "id": "initial_id",
   "metadata": {
    "collapsed": true,
    "ExecuteTime": {
     "end_time": "2024-01-17T20:27:30.335564Z",
     "start_time": "2024-01-17T20:27:29.704699Z"
    }
   },
   "outputs": [
    {
     "name": "stdout",
     "output_type": "stream",
     "text": [
      "The autoreload extension is already loaded. To reload it, use:\n",
      "  %reload_ext autoreload\n"
     ]
    }
   ],
   "source": [
    "%load_ext autoreload\n",
    "%autoreload 2\n",
    "import appointment\n",
    "from availability import Availability"
   ]
  },
  {
   "cell_type": "code",
   "outputs": [],
   "source": [
    "obj = Availability()\n",
    "obj.add_availability(doctor_phone_number=\"09101511901\", clinic=\"clinic_1\", date=\"2024/8/18\")"
   ],
   "metadata": {
    "collapsed": false,
    "ExecuteTime": {
     "end_time": "2024-01-17T20:46:31.507524300Z",
     "start_time": "2024-01-17T20:46:31.359298100Z"
    }
   },
   "id": "6be2a438ea362739",
   "execution_count": 81
  },
  {
   "cell_type": "code",
   "outputs": [
    {
     "name": "stdout",
     "output_type": "stream",
     "text": [
      "[INFO] Appointment added successfully!\n"
     ]
    }
   ],
   "source": [
    "obj = appointment.Appointment()\n",
    "obj.add_appointment(doctor_phone_number=\"09101511901\", clinic_name=\"clinic_1\", patient_phone_number=\"09131511983\",\n",
    "                    date=\"2024/8/17\")"
   ],
   "metadata": {
    "collapsed": false,
    "ExecuteTime": {
     "end_time": "2024-01-17T20:45:31.208376200Z",
     "start_time": "2024-01-17T20:45:31.081775500Z"
    }
   },
   "id": "7a75db60385fd0c0",
   "execution_count": 76
  },
  {
   "cell_type": "code",
   "outputs": [
    {
     "name": "stdout",
     "output_type": "stream",
     "text": [
      "[ERROR] Appointment already canceled\n"
     ]
    }
   ],
   "source": [
    "obj.cancel_appointment(patient_phone_number=\"09131511983\", date=\"2024/8/16\")"
   ],
   "metadata": {
    "collapsed": false,
    "ExecuteTime": {
     "end_time": "2024-01-17T20:40:34.190631300Z",
     "start_time": "2024-01-17T20:40:34.113437300Z"
    }
   },
   "id": "1d19d2435949a74f",
   "execution_count": 72
  },
  {
   "cell_type": "code",
   "outputs": [],
   "source": [
    "obj = appointment.Appointment()\n",
    "obj.reschedule_appointment(patient_phone_number=\"09131511983\", old_date=\"2024/8/17\", new_date=\"2024/8/18\")"
   ],
   "metadata": {
    "collapsed": false,
    "is_executing": true,
    "ExecuteTime": {
     "start_time": "2024-01-17T20:48:36.543476400Z"
    }
   },
   "id": "6d32b2e2c19df646",
   "execution_count": null
  },
  {
   "cell_type": "code",
   "outputs": [],
   "source": [],
   "metadata": {
    "collapsed": false
   },
   "id": "932c84e19975bbf0"
  }
 ],
 "metadata": {
  "kernelspec": {
   "display_name": "Python 3",
   "language": "python",
   "name": "python3"
  },
  "language_info": {
   "codemirror_mode": {
    "name": "ipython",
    "version": 2
   },
   "file_extension": ".py",
   "mimetype": "text/x-python",
   "name": "python",
   "nbconvert_exporter": "python",
   "pygments_lexer": "ipython2",
   "version": "2.7.6"
  }
 },
 "nbformat": 4,
 "nbformat_minor": 5
}
