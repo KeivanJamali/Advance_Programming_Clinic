{
 "cells": [
  {
   "cell_type": "code",
   "outputs": [],
   "source": [
    "%load_ext autoreload\n",
    "%autoreload 2"
   ],
   "metadata": {
    "collapsed": false,
    "ExecuteTime": {
     "end_time": "2024-01-22T08:09:10.070726600Z",
     "start_time": "2024-01-22T08:09:09.986156100Z"
    }
   },
   "id": "a14f58553d82a2aa",
   "execution_count": 1
  },
  {
   "cell_type": "code",
   "outputs": [],
   "source": [
    "from user import User"
   ],
   "metadata": {
    "collapsed": false,
    "ExecuteTime": {
     "end_time": "2024-01-22T08:09:10.260340900Z",
     "start_time": "2024-01-22T08:09:10.061147600Z"
    }
   },
   "id": "a16711785935184c",
   "execution_count": 2
  },
  {
   "cell_type": "code",
   "outputs": [],
   "source": [
    "user1 = User()"
   ],
   "metadata": {
    "collapsed": false,
    "ExecuteTime": {
     "end_time": "2024-01-22T08:09:23.327615300Z",
     "start_time": "2024-01-22T08:09:23.251745600Z"
    }
   },
   "id": "e2517fe8bd63a463",
   "execution_count": 3
  },
  {
   "cell_type": "code",
   "outputs": [
    {
     "name": "stdout",
     "output_type": "stream",
     "text": [
      "[INFO] Registered\n"
     ]
    },
    {
     "data": {
      "text/plain": "<user.User at 0x29e0a42b500>"
     },
     "execution_count": 4,
     "metadata": {},
     "output_type": "execute_result"
    }
   ],
   "source": [
    "user1.register_user(\"keivan\", \"jamali\", \"1234\", \"09101511983\", \"1\")"
   ],
   "metadata": {
    "collapsed": false,
    "ExecuteTime": {
     "end_time": "2024-01-22T08:10:03.854672500Z",
     "start_time": "2024-01-22T08:10:03.700404500Z"
    }
   },
   "id": "d55f2d5d2017a054",
   "execution_count": 4
  },
  {
   "cell_type": "code",
   "outputs": [],
   "source": [],
   "metadata": {
    "collapsed": false
   },
   "id": "50ee18f2dcdb3cf7"
  }
 ],
 "metadata": {
  "kernelspec": {
   "display_name": "Python 3",
   "language": "python",
   "name": "python3"
  },
  "language_info": {
   "codemirror_mode": {
    "name": "ipython",
    "version": 2
   },
   "file_extension": ".py",
   "mimetype": "text/x-python",
   "name": "python",
   "nbconvert_exporter": "python",
   "pygments_lexer": "ipython2",
   "version": "2.7.6"
  }
 },
 "nbformat": 4,
 "nbformat_minor": 5
}
