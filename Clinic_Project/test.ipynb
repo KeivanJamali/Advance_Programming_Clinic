{
 "cells": [
  {
   "cell_type": "code",
   "execution_count": 27,
   "id": "initial_id",
   "metadata": {
    "collapsed": true,
    "ExecuteTime": {
     "end_time": "2024-01-18T19:58:22.393287500Z",
     "start_time": "2024-01-18T19:58:22.333567600Z"
    }
   },
   "outputs": [
    {
     "name": "stdout",
     "output_type": "stream",
     "text": [
      "The autoreload extension is already loaded. To reload it, use:\n",
      "  %reload_ext autoreload\n"
     ]
    }
   ],
   "source": [
    "%load_ext autoreload\n",
    "%autoreload 2\n",
    "import appointment\n",
    "from availability import Availability\n",
    "from doctor import Doctor\n",
    "from clinic import Clinic"
   ]
  },
  {
   "cell_type": "code",
   "outputs": [],
   "source": [
    "obj_availability = Availability()\n",
    "obj_appointment = appointment.Appointment()"
   ],
   "metadata": {
    "collapsed": false,
    "ExecuteTime": {
     "end_time": "2024-01-18T19:58:22.854315600Z",
     "start_time": "2024-01-18T19:58:22.810437200Z"
    }
   },
   "id": "cb7ef0ff79ae5b21",
   "execution_count": 28
  },
  {
   "cell_type": "code",
   "outputs": [],
   "source": [
    "obj_availability.add_availability(doctor_phone_number=\"09101511901\", clinic_name=\"clinic_1\", date=\"2024/2/1\",\n",
    "                                  time=\"10:00\")\n",
    "obj_availability.add_availability(doctor_phone_number=\"09101511901\", clinic_name=\"clinic_1\", date=\"2024/2/2\",\n",
    "                                  time=\"10:30\")\n",
    "obj_availability.add_availability(doctor_phone_number=\"09101511901\", clinic_name=\"clinic_1\", date=\"2024/2/3\",\n",
    "                                  time=\"11:00\")\n",
    "obj_availability.add_availability(doctor_phone_number=\"09101511901\", clinic_name=\"clinic_2\", date=\"2024/2/4\",\n",
    "                                  time=\"10:00\")\n",
    "obj_availability.add_availability(doctor_phone_number=\"09101511902\", clinic_name=\"clinic_2\", date=\"2024/2/5\",\n",
    "                                  time=\"10:30\")\n",
    "obj_availability.add_availability(doctor_phone_number=\"09101511903\", clinic_name=\"clinic_3\", date=\"2024/2/6\",\n",
    "                                  time=\"11:00\")\n",
    "obj_availability.add_availability(doctor_phone_number=\"09101511902\", clinic_name=\"clinic_3\", date=\"2024/2/7\",\n",
    "                                  time=\"12:00\")\n",
    "obj_availability.add_availability(doctor_phone_number=\"09101511903\", clinic_name=\"clinic_3\", date=\"2024/2/8\",\n",
    "                                  time=\"12:00\")\n",
    "obj_availability.add_availability(doctor_phone_number=\"09101511902\", clinic_name=\"clinic_2\", date=\"2024/2/9\",\n",
    "                                  time=\"12:00\")"
   ],
   "metadata": {
    "collapsed": false,
    "ExecuteTime": {
     "end_time": "2024-01-18T19:42:07.753623100Z",
     "start_time": "2024-01-18T19:42:07.510988Z"
    }
   },
   "id": "6be2a438ea362739",
   "execution_count": 37
  },
  {
   "cell_type": "code",
   "outputs": [
    {
     "name": "stdout",
     "output_type": "stream",
     "text": [
      "[INFO] Appointment added successfully!\n",
      "[INFO] Appointment added successfully!\n"
     ]
    }
   ],
   "source": [
    "obj_appointment.add_appointment(doctor_phone_number=\"09101511901\", clinic_name=\"clinic_s1\",\n",
    "                                patient_phone_number=\"09101511983\",\n",
    "                                date=\"2024/2/3\", time=\"11:00\")\n",
    "obj_appointment.add_appointment(doctor_phone_number=\"09101511901\", clinic_name=\"clinic_s1\",\n",
    "                                patient_phone_number=\"09101511983\",\n",
    "                                date=\"2024/2/1\", time=\"10:0\")"
   ],
   "metadata": {
    "collapsed": false,
    "ExecuteTime": {
     "end_time": "2024-01-18T19:42:08.673037800Z",
     "start_time": "2024-01-18T19:42:08.595236600Z"
    }
   },
   "id": "7a75db60385fd0c0",
   "execution_count": 38
  },
  {
   "cell_type": "code",
   "outputs": [
    {
     "name": "stdout",
     "output_type": "stream",
     "text": [
      "[INFO] Appointment canceled successfully!\n"
     ]
    }
   ],
   "source": [
    "obj_appointment.cancel_appointment(patient_phone_number=\"09101511983\", date=\"2024/2/2\", time=\"10:30\")"
   ],
   "metadata": {
    "collapsed": false,
    "ExecuteTime": {
     "end_time": "2024-01-17T23:59:24.573346900Z",
     "start_time": "2024-01-17T23:59:24.484083600Z"
    }
   },
   "id": "1d19d2435949a74f",
   "execution_count": 9
  },
  {
   "cell_type": "code",
   "outputs": [
    {
     "name": "stdout",
     "output_type": "stream",
     "text": [
      "Appointment rescheduled successfully!\n"
     ]
    }
   ],
   "source": [
    "obj_appointment.reschedule_appointment(patient_phone_number=\"09101511983\", old_date=\"2024/2/1\", old_time=\"10:0\",\n",
    "                                       new_date=\"2024/2/2\", new_time=\"10:30\")"
   ],
   "metadata": {
    "collapsed": false,
    "ExecuteTime": {
     "end_time": "2024-01-17T23:59:25.826089400Z",
     "start_time": "2024-01-17T23:59:25.738284300Z"
    }
   },
   "id": "6d32b2e2c19df646",
   "execution_count": 10
  },
  {
   "cell_type": "code",
   "outputs": [
    {
     "data": {
      "text/plain": "[{'Available Date': '2024/02/03',\n  'Available Time': '11:00',\n  'Doctor Name': 'd1 dl1',\n  'Clinic Name': 'clinic_1',\n  'Clinic Address': 'tehran',\n  'Secretary Phone Number': '09101511911'},\n {'Available Date': '2024/02/04',\n  'Available Time': '10:00',\n  'Doctor Name': 'd1 dl1',\n  'Clinic Name': 'clinic_2',\n  'Clinic Address': 'tehran',\n  'Secretary Phone Number': '09101511912'},\n {'Available Date': '2024/02/05',\n  'Available Time': '10:30',\n  'Doctor Name': 'd2 dl2',\n  'Clinic Name': 'clinic_2',\n  'Clinic Address': 'tehran',\n  'Secretary Phone Number': '09101511912'},\n {'Available Date': '2024/02/06',\n  'Available Time': '11:00',\n  'Doctor Name': 'd3 dl3',\n  'Clinic Name': 'clinic_3',\n  'Clinic Address': 'tehran',\n  'Secretary Phone Number': '09101511913'},\n {'Available Date': '2024/02/07',\n  'Available Time': '12:00',\n  'Doctor Name': 'd2 dl2',\n  'Clinic Name': 'clinic_3',\n  'Clinic Address': 'tehran',\n  'Secretary Phone Number': '09101511913'},\n {'Available Date': '2024/02/08',\n  'Available Time': '12:00',\n  'Doctor Name': 'd3 dl3',\n  'Clinic Name': 'clinic_3',\n  'Clinic Address': 'tehran',\n  'Secretary Phone Number': '09101511913'},\n {'Available Date': '2024/02/09',\n  'Available Time': '12:00',\n  'Doctor Name': 'd2 dl2',\n  'Clinic Name': 'clinic_2',\n  'Clinic Address': 'tehran',\n  'Secretary Phone Number': '09101511912'}]"
     },
     "execution_count": 6,
     "metadata": {},
     "output_type": "execute_result"
    }
   ],
   "source": [
    "obj_availability.get_available_times()"
   ],
   "metadata": {
    "collapsed": false,
    "ExecuteTime": {
     "end_time": "2024-01-18T15:41:58.392826700Z",
     "start_time": "2024-01-18T15:41:58.324191900Z"
    }
   },
   "id": "932c84e19975bbf0",
   "execution_count": 6
  },
  {
   "cell_type": "code",
   "outputs": [
    {
     "name": "stdout",
     "output_type": "stream",
     "text": [
      "[INFO] Doctor with the provided phone number already exists.\n",
      "[INFO] Doctor with phone number: 09101511901 and name: d1 dl1 SELECTED!\n"
     ]
    }
   ],
   "source": [
    "doctor1 = Doctor(phone_number=\"09101511901\", first_name=\"doctor\", last_name=\"1\")"
   ],
   "metadata": {
    "collapsed": false,
    "ExecuteTime": {
     "end_time": "2024-01-18T15:44:13.150009700Z",
     "start_time": "2024-01-18T15:44:13.052280800Z"
    }
   },
   "id": "50f59e6d9a13fc87",
   "execution_count": 20
  },
  {
   "cell_type": "code",
   "outputs": [
    {
     "data": {
      "text/plain": "9"
     },
     "execution_count": 8,
     "metadata": {},
     "output_type": "execute_result"
    }
   ],
   "source": [
    "doctor1.doctor_id"
   ],
   "metadata": {
    "collapsed": false,
    "ExecuteTime": {
     "end_time": "2024-01-18T13:30:55.050079100Z",
     "start_time": "2024-01-18T13:30:54.928904600Z"
    }
   },
   "id": "f51257dd48758dc3",
   "execution_count": 8
  },
  {
   "cell_type": "code",
   "outputs": [
    {
     "name": "stdout",
     "output_type": "stream",
     "text": [
      "[ERROR] A doctor with the provided phone number already exists.\n"
     ]
    }
   ],
   "source": [
    "doctor1.update_doctor_profile(new_last_name=\"doctor_updated1\", new_phone_number=\"09101511901\")"
   ],
   "metadata": {
    "collapsed": false,
    "ExecuteTime": {
     "end_time": "2024-01-18T15:44:00.850903100Z",
     "start_time": "2024-01-18T15:44:00.788081700Z"
    }
   },
   "id": "c1c1c7339ebf7dcf",
   "execution_count": 19
  },
  {
   "cell_type": "code",
   "outputs": [
    {
     "data": {
      "text/plain": "[{'date': '2024/02/02',\n  'time': '10:30',\n  'clinic': 'clinic_1',\n  'patient_name': 'keivan jamali',\n  'patient_phone_number': '09101511983'},\n {'date': '2024/02/01',\n  'time': '10:00',\n  'clinic': 'clinic_1',\n  'patient_name': 'keivan jamali',\n  'patient_phone_number': '09101511983'}]"
     },
     "execution_count": 21,
     "metadata": {},
     "output_type": "execute_result"
    }
   ],
   "source": [
    "doctor1.view_doctor_schedule()"
   ],
   "metadata": {
    "collapsed": false,
    "ExecuteTime": {
     "end_time": "2024-01-18T15:44:17.125006300Z",
     "start_time": "2024-01-18T15:44:16.981419200Z"
    }
   },
   "id": "cd2a276fffe2a779",
   "execution_count": 21
  },
  {
   "cell_type": "code",
   "outputs": [
    {
     "name": "stdout",
     "output_type": "stream",
     "text": [
      "[INFO] Doctor with the provided phone number already exists.\n",
      "[INFO] Doctor with phone number: 09101511902 and name: d2 dl2 SELECTED!\n"
     ]
    }
   ],
   "source": [
    "doctor2 = Doctor(phone_number=\"09101511902\", first_name=\"doctor\", last_name=\"2\")"
   ],
   "metadata": {
    "collapsed": false,
    "ExecuteTime": {
     "end_time": "2024-01-18T15:44:25.988411100Z",
     "start_time": "2024-01-18T15:44:25.932501900Z"
    }
   },
   "id": "52fd7f500501c80b",
   "execution_count": 22
  },
  {
   "cell_type": "code",
   "outputs": [
    {
     "name": "stdout",
     "output_type": "stream",
     "text": [
      "[INFO] No appointments scheduled for this doctor.\n"
     ]
    }
   ],
   "source": [
    "doctor2.view_doctor_schedule()"
   ],
   "metadata": {
    "collapsed": false,
    "ExecuteTime": {
     "end_time": "2024-01-18T15:44:31.651805600Z",
     "start_time": "2024-01-18T15:44:31.596087400Z"
    }
   },
   "id": "11ce981148c95e0b",
   "execution_count": 23
  },
  {
   "cell_type": "code",
   "outputs": [
    {
     "name": "stdout",
     "output_type": "stream",
     "text": [
      "[INFO] No appointments scheduled for this doctor.\n"
     ]
    }
   ],
   "source": [
    "doctor2.edit_appointments(old_date=\"2024/02/02\", old_time=\"10:30\", new_date=\"2024/2/3\", new_time=\"11:00\")"
   ],
   "metadata": {
    "collapsed": false,
    "ExecuteTime": {
     "end_time": "2024-01-18T15:45:42.593352Z",
     "start_time": "2024-01-18T15:45:42.504951200Z"
    }
   },
   "id": "3bbf24eb8207a0f4",
   "execution_count": 25
  },
  {
   "cell_type": "code",
   "outputs": [
    {
     "name": "stdout",
     "output_type": "stream",
     "text": [
      "[INFO] Clinic with the provided phone number already exists.\n",
      "[INFO] Clinic with name: clinic_1 and address tehran and secretary: 09101511911 SELECTED!\n"
     ]
    }
   ],
   "source": [
    "clinic1 = Clinic(clinic_name=\"clinic_1\", address=\"ww\", secretary_phone_number=\"09101511931\")"
   ],
   "metadata": {
    "collapsed": false,
    "ExecuteTime": {
     "end_time": "2024-01-18T15:49:07.942264300Z",
     "start_time": "2024-01-18T15:49:07.833443Z"
    }
   },
   "id": "fb8cac04f0861e98",
   "execution_count": 40
  },
  {
   "cell_type": "code",
   "outputs": [
    {
     "name": "stdout",
     "output_type": "stream",
     "text": [
      "[INFO] Doctor with the provided phone number already exists.\n",
      "[INFO] Doctor with phone number: 09101511984 and name: doctor 1 SELECTED!\n",
      "[INFO] Dr. doctor 1 added to clinic_1.\n"
     ]
    }
   ],
   "source": [
    "doctor1 = Doctor(phone_number=\"09101511984\", first_name=\"doctor\", last_name=\"1\", clinic=clinic1)"
   ],
   "metadata": {
    "collapsed": false,
    "ExecuteTime": {
     "end_time": "2024-01-18T15:49:09.025890700Z",
     "start_time": "2024-01-18T15:49:08.971326800Z"
    }
   },
   "id": "76ac3cfdfca914a9",
   "execution_count": 41
  },
  {
   "cell_type": "code",
   "outputs": [
    {
     "name": "stdout",
     "output_type": "stream",
     "text": [
      "[INFO] Clinic with the provided phone number already exists.\n",
      "[INFO] Clinic with name: clinic_a and address ww and secretary: 09101511931 SELECTED!\n"
     ]
    }
   ],
   "source": [
    "clinic1 = Clinic(clinic_name=\"clinic_a\", address=\"ww\", secretary_phone_number=\"09101511931\")"
   ],
   "metadata": {
    "collapsed": false,
    "ExecuteTime": {
     "end_time": "2024-01-18T15:47:25.937585900Z",
     "start_time": "2024-01-18T15:47:25.877153300Z"
    }
   },
   "id": "ac11b948b889a5a5",
   "execution_count": 34
  },
  {
   "cell_type": "code",
   "outputs": [
    {
     "data": {
      "text/plain": "'doctor'"
     },
     "execution_count": 45,
     "metadata": {},
     "output_type": "execute_result"
    }
   ],
   "source": [
    "clinic1.doctors[0].first_name"
   ],
   "metadata": {
    "collapsed": false,
    "ExecuteTime": {
     "end_time": "2024-01-18T15:49:35.936611900Z",
     "start_time": "2024-01-18T15:49:35.788414100Z"
    }
   },
   "id": "f3b8cde9300762ba",
   "execution_count": 45
  },
  {
   "cell_type": "code",
   "outputs": [],
   "source": [
    "\n",
    "from secretary import Secretary\n"
   ],
   "metadata": {
    "collapsed": false,
    "ExecuteTime": {
     "end_time": "2024-01-18T19:45:44.018094300Z",
     "start_time": "2024-01-18T19:45:43.976829300Z"
    }
   },
   "id": "21ef1ac5c323f2c7",
   "execution_count": 5
  },
  {
   "cell_type": "code",
   "outputs": [
    {
     "name": "stdout",
     "output_type": "stream",
     "text": [
      "[INFO] Clinic with the provided phone number already exists.\n",
      "[INFO] Clinic with name: clinic_s1 and address Yazd and secretary: 09101511983 SELECTED!\n"
     ]
    }
   ],
   "source": [
    "s1 = Secretary(clinic_name=\"clinic_s1\", address=\"Yazd\", phone_number=\"09101511983\")"
   ],
   "metadata": {
    "collapsed": false,
    "ExecuteTime": {
     "end_time": "2024-01-18T19:45:45.105166200Z",
     "start_time": "2024-01-18T19:45:45.010427900Z"
    }
   },
   "id": "82246faa3fee3aad",
   "execution_count": 6
  },
  {
   "cell_type": "code",
   "outputs": [
    {
     "name": "stdout",
     "output_type": "stream",
     "text": [
      "[INFO] Doctor with the provided phone number already exists.\n",
      "[INFO] Doctor with phone number: 09101511901 and name: d1 dl1 SELECTED!\n",
      "[ERROR] Doctor already associated with the clinic.\n",
      "[ERROR] Already exists for the input data\n"
     ]
    }
   ],
   "source": [
    "s1.add_doctor(phone_number=\"09101511901\", first_name=\"d_s1\", last_name=\"d_s1\", date=\"2024/12/12\", time=\"13:00\")"
   ],
   "metadata": {
    "collapsed": false,
    "ExecuteTime": {
     "end_time": "2024-01-18T19:56:45.076284500Z",
     "start_time": "2024-01-18T19:56:45.007760900Z"
    }
   },
   "id": "4ea11b5e13c922fb",
   "execution_count": 23
  },
  {
   "cell_type": "code",
   "outputs": [
    {
     "name": "stdout",
     "output_type": "stream",
     "text": [
      "### Doctor d1 dl1 Phone number: 09101511901 ###\n",
      "╒════╤════════════╤════════╤═══════════╤════════════════╤════════════════════════╕\n",
      "│    │ Date       │ Time   │ Clinic    │ Patient Name   │  Patient Phone Number  │\n",
      "╞════╪════════════╪════════╪═══════════╪════════════════╪════════════════════════╡\n",
      "│ 0  │ 2024/02/02 │ 10:30  │ clinic_1  │ keivan jamali  │      09101511983       │\n",
      "├────┼────────────┼────────┼───────────┼────────────────┼────────────────────────┤\n",
      "│ 1  │ 2024/02/01 │ 10:00  │ clinic_1  │ keivan jamali  │      09101511983       │\n",
      "├────┼────────────┼────────┼───────────┼────────────────┼────────────────────────┤\n",
      "│ 2  │ 2024/12/12 │ 13:00  │ clinic_s1 │ keivan jamali  │      09101511983       │\n",
      "╘════╧════════════╧════════╧═══════════╧════════════════╧════════════════════════╛\n"
     ]
    }
   ],
   "source": [
    "s1.view_schedule_for_doctor()"
   ],
   "metadata": {
    "collapsed": false,
    "ExecuteTime": {
     "end_time": "2024-01-18T20:31:08.103421500Z",
     "start_time": "2024-01-18T20:31:08.043903400Z"
    }
   },
   "id": "c656d07514196925",
   "execution_count": 42
  },
  {
   "cell_type": "code",
   "outputs": [
    {
     "name": "stdout",
     "output_type": "stream",
     "text": [
      "[INFO] Appointment added successfully!\n"
     ]
    }
   ],
   "source": [
    "obj_appointment.add_appointment(doctor_phone_number=\"09101511901\", clinic_name=\"clinic_s1\",\n",
    "                                patient_phone_number=\"09101511983\",\n",
    "                                date=\"2024/12/12\", time=\"13:00\")"
   ],
   "metadata": {
    "collapsed": false,
    "ExecuteTime": {
     "end_time": "2024-01-18T19:58:46.003803200Z",
     "start_time": "2024-01-18T19:58:45.931487100Z"
    }
   },
   "id": "d4f0cce1d08c7059",
   "execution_count": 31
  },
  {
   "cell_type": "code",
   "outputs": [
    {
     "name": "stdout",
     "output_type": "stream",
     "text": [
      "Clinic clinic_s1Address: YazdSecretary Phone Number: 09101511983\n",
      "╒════╤════════════╤════════╤═══════════════╤═══════════════════════╤════════════════╤════════════════════════╕\n",
      "│    │ Date       │ Time   │ Doctor Name   │  Doctor Phone Number  │ Patient Name   │  Patient Phone Number  │\n",
      "╞════╪════════════╪════════╪═══════════════╪═══════════════════════╪════════════════╪════════════════════════╡\n",
      "│ 0  │ 2024/12/12 │ 13:00  │ d1 dl1        │      09101511901      │ keivan jamali  │      09101511983       │\n",
      "╘════╧════════════╧════════╧═══════════════╧═══════════════════════╧════════════════╧════════════════════════╛\n"
     ]
    }
   ],
   "source": [
    "s1.view_appointments_for_clinic()"
   ],
   "metadata": {
    "collapsed": false,
    "ExecuteTime": {
     "end_time": "2024-01-18T20:31:05.778546100Z",
     "start_time": "2024-01-18T20:31:05.616545400Z"
    }
   },
   "id": "d0914de108132daa",
   "execution_count": 41
  },
  {
   "cell_type": "code",
   "outputs": [],
   "source": [],
   "metadata": {
    "collapsed": false
   },
   "id": "7013966f841c61b5"
  }
 ],
 "metadata": {
  "kernelspec": {
   "display_name": "Python 3",
   "language": "python",
   "name": "python3"
  },
  "language_info": {
   "codemirror_mode": {
    "name": "ipython",
    "version": 2
   },
   "file_extension": ".py",
   "mimetype": "text/x-python",
   "name": "python",
   "nbconvert_exporter": "python",
   "pygments_lexer": "ipython2",
   "version": "2.7.6"
  }
 },
 "nbformat": 4,
 "nbformat_minor": 5
}
